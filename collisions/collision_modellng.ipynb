{
  "nbformat": 4,
  "nbformat_minor": 0,
  "metadata": {
    "colab": {
      "provenance": [],
      "authorship_tag": "ABX9TyPgqZAaKmwgSC959ENkLwa2"
    },
    "kernelspec": {
      "name": "python3",
      "display_name": "Python 3"
    },
    "language_info": {
      "name": "python"
    }
  },
  "cells": [
    {
      "cell_type": "markdown",
      "source": [
        "#Imports"
      ],
      "metadata": {
        "id": "6pnw8zJ0Ts1Y"
      }
    },
    {
      "cell_type": "code",
      "source": [
        "import pandas as pd\n",
        "import numpy as np\n",
        "from matplotlib import pyplot as plt"
      ],
      "metadata": {
        "id": "xXR78HZjTvA2"
      },
      "execution_count": 16,
      "outputs": []
    },
    {
      "cell_type": "markdown",
      "source": [
        "###1D collision Modelling (basic)\n",
        "\n",
        "Here, we'll employ the following parameters to vary the collisions:\n",
        "\n",
        "\n",
        "*   Initial velocity of the two projectiles\n",
        "*   Coefficient of restitution\n",
        "*   Masses of each\n",
        "\n",
        "Some things that we'll output:\n",
        "*   Position vs Time (For both projectiles) - Graphs + dataset\n",
        "*   Velocity vs Time (For both projectiles) - Graphs + dataset\n",
        "\n",
        "\n",
        "The main equations employed:\n",
        "   $$m_1v_{1i}+m_2v_{2i} = m_1v_{1f}+m_2v_{2f} \\quad\\text{(conservation of momentum)}$$\n",
        "   $$e = \\frac{v_{2f} - v_{1f}}{v_{ia} - v_{ib}} \\quad\\text{(coefficient of restitution)}$$\n",
        "\n",
        "Note that if no additional energy is added, $0\\leq e\\leq 1$\n"
      ],
      "metadata": {
        "id": "a1PhtLQe0luK"
      }
    },
    {
      "cell_type": "code",
      "execution_count": 13,
      "metadata": {
        "colab": {
          "base_uri": "https://localhost:8080/"
        },
        "id": "mGFmRGX80j4v",
        "outputId": "51b7773e-3137-4523-b39e-51a126fbb5e9"
      },
      "outputs": [
        {
          "output_type": "execute_result",
          "data": {
            "text/plain": [
              "(7.5, 7.5)"
            ]
          },
          "metadata": {},
          "execution_count": 13
        }
      ],
      "source": [
        "def single_collision_sim(m_0,m_1,v_0,v_1,restitution):\n",
        "  p_0 = m_0*v_0+m_1*v_1\n",
        "  total_mass = m_0+m_1\n",
        "  rel_vel_0 = v_1-v_0\n",
        "  v_0 = (p_0 + m_1*restitution*(rel_vel_0))/total_mass\n",
        "  v_1 = (p_0-m_0*v_0)/m_1\n",
        "  return (v_0,v_1)\n",
        "\n",
        "# distance = 15\n",
        "v_0 = 15\n",
        "v_1 = 0\n",
        "m_0 = 15\n",
        "m_1 = 15\n",
        "restitution = 0\n",
        "\n",
        "single_collision_sim(m_0,m_1,v_0,v_1,restitution)\n",
        "\n"
      ]
    },
    {
      "cell_type": "markdown",
      "source": [
        "### Multiple 1D collisions\n",
        "\n",
        "Here we'll add in (two) additional parameters:\n",
        "\n",
        "\n",
        "*   Position of each projectile\n",
        "*   Time\n",
        "\n",
        "Instead of having individual variables, we'll have arrays for the initial masses and velocities, respectively. For simplicity, we'll take the coefficient of restitution to be the same everywhere.\n",
        "\n",
        "**Note**: The hard part might be keeping track of the collisions (discrete time = might overshoot positions!)\n",
        "\n"
      ],
      "metadata": {
        "id": "6lXHbh1TWXGO"
      }
    },
    {
      "cell_type": "code",
      "source": [
        "positions = [0,1,2,3,4] #For now, we'll make the positions array in increasing order, but we'll have to write an algorithm to implement this later!\n",
        "velocities = [5,0,0,0,0]\n",
        "masses = [3,3,3,3,3]\n",
        "restitution = 1\n",
        "time = 0\n",
        "time_delta = 0.01\n",
        "\n",
        "num_blocks = len(positions)\n",
        "positions = np.array(positions).astype('float64')\n",
        "velocities = np.array(velocities).astype('float64')\n",
        "masses = np.array(masses).astype('float64')\n",
        "# block_position_data = np.random.normal(0,0,(1,len(positions))).tolist()\n",
        "# block_vel_data = np.random.normal(0,0,(1,len(velocities))).tolist()\n",
        "\n",
        "block_position_data = []\n",
        "block_vel_data = []\n",
        "\n",
        "\n",
        "def check_collision(position_arr):\n",
        "  \"\"\"\n",
        "  Checks if a collision has occured\n",
        "  \"\"\"\n",
        "  collisions = []\n",
        "  for i in range(len(position_arr)-1): #inspiration for a circular world here!\n",
        "      if position_arr[i]>=position_arr[i+1]:\n",
        "        collisions.append(i)\n",
        "  return collisions\n",
        "\n",
        "def update_metrics():\n",
        "  global positions, velocities, masses, restitution\n",
        "  #How to account for multiple collisions at once? --> Need some if-else statement for that?\n",
        "  collisions = check_collision(positions.tolist())\n",
        "  for i in collisions:\n",
        "    vel_pair = single_collision_sim(masses[i],masses[i+1],velocities[i],velocities[i+1],restitution)\n",
        "    velocities[i] = vel_pair[0]\n",
        "    velocities[i+1] = vel_pair[1]\n",
        "\n",
        "def simulation_ongoing():\n",
        "  \"\"\"\n",
        "  Checks if there are any more collisions to occur\n",
        "  \"\"\"\n",
        "  for i in range(len(velocities)-1):\n",
        "    if (velocities[i+1] - velocities[i] < 0):\n",
        "      return True\n",
        "  return False\n",
        "\n",
        "## Running the simulations\n",
        "counter=0\n",
        "while (simulation_ongoing()):\n",
        "  # counter+=1\n",
        "  block_position_data.append(positions.tolist())\n",
        "  block_vel_data.append(velocities.tolist())\n",
        "\n",
        "  update_metrics()\n",
        "  # print(counter)\n",
        "  time+= time_delta\n",
        "\n",
        "  positions += velocities*time_delta\n",
        "\n",
        "\n",
        "\n",
        "\n"
      ],
      "metadata": {
        "id": "uEMiTMB4XCmR"
      },
      "execution_count": 102,
      "outputs": []
    },
    {
      "cell_type": "markdown",
      "source": [
        "### Multiple 1D Collision Graphs\n",
        "\n",
        "Here, we'll implement matplot lib libraries to generate some visuals of (x vs t) and (v vs t) for each block."
      ],
      "metadata": {
        "id": "oF6ek_fukUb6"
      }
    },
    {
      "cell_type": "code",
      "source": [
        "def legend_gen(num):\n",
        "  legend = []\n",
        "  for i in range(num):\n",
        "    legend.append(\"Block \" + str((i+1)))\n",
        "  return legend\n",
        "\n",
        "def draw_time_graphs(data, time_delta,y_axis,title=\"Title\", x_axis=\"Time (seoncds)\"):\n",
        "  datapoints = len(data)\n",
        "  time_series = []\n",
        "  for i in range(datapoints):\n",
        "    time_series.append((i)*time_delta)\n",
        "  plt.title(title)\n",
        "  plt.xlabel(x_axis)\n",
        "  plt.ylabel(y_axis)\n",
        "  for i in range(num_blocks):\n",
        "    plt.plot(time_series, data[:,i])\n",
        "  plt.legend(legend_gen(num_blocks))\n",
        "  plt.tight_layout()\n",
        "  plt.show()\n",
        "draw_time_graphs(np.array(block_vel_data), time_delta, y_axis=\"Velocity Data\", x_axis=\"Time (seoncds)\")\n"
      ],
      "metadata": {
        "colab": {
          "base_uri": "https://localhost:8080/",
          "height": 487
        },
        "id": "6isg6AkgkXix",
        "outputId": "311c82de-be03-47ab-9e8f-ecf5dff70cbc"
      },
      "execution_count": 106,
      "outputs": [
        {
          "output_type": "display_data",
          "data": {
            "text/plain": [
              "<Figure size 640x480 with 1 Axes>"
            ],
            "image/png": "[encoded data removed]"
          },
          "metadata": {}
        }
      ]
    },
    {
      "cell_type": "code",
      "source": [
        "block_vel_data"
      ],
      "metadata": {
        "colab": {
          "base_uri": "https://localhost:8080/"
        },
        "id": "v7iCDkndm4J4",
        "outputId": "7b2e98c8-b58e-4862-e0cd-06abb5669e5a"
      },
      "execution_count": 85,
      "outputs": [
        {
          "output_type": "execute_result",
          "data": {
            "text/plain": [
              "array([[5., 0., 0., 0., 0.],\n",
              "       [5., 0., 0., 0., 0.],\n",
              "       [5., 0., 0., 0., 0.],\n",
              "       [0., 5., 0., 0., 0.],\n",
              "       [0., 5., 0., 0., 0.],\n",
              "       [0., 0., 5., 0., 0.],\n",
              "       [0., 0., 5., 0., 0.],\n",
              "       [0., 0., 0., 5., 0.],\n",
              "       [0., 0., 0., 5., 0.]])"
            ]
          },
          "metadata": {},
          "execution_count": 85
        }
      ]
    },
    {
      "cell_type": "code",
      "source": [
        "block_vel_data = np.array(block_vel_data)\n",
        "block_vel_data[:,0]"
      ],
      "metadata": {
        "colab": {
          "base_uri": "https://localhost:8080/"
        },
        "id": "CfKhKSObjRCd",
        "outputId": "16225dc6-bcd5-4d17-e1c7-a21ad4299757"
      },
      "execution_count": 84,
      "outputs": [
        {
          "output_type": "execute_result",
          "data": {
            "text/plain": [
              "array([5., 5., 5., 0., 0., 0., 0., 0., 0.])"
            ]
          },
          "metadata": {},
          "execution_count": 84
        }
      ]
    },
    {
      "cell_type": "code",
      "source": [
        "thing = np.array([0,1,2,3,4])\n",
        "thing[1] = 2\n",
        "thing[1]\n"
      ],
      "metadata": {
        "colab": {
          "base_uri": "https://localhost:8080/"
        },
        "id": "7vDym667auZw",
        "outputId": "dc30a87d-496e-416e-b93e-5b8920d8c6eb"
      },
      "execution_count": 21,
      "outputs": [
        {
          "output_type": "execute_result",
          "data": {
            "text/plain": [
              "2"
            ]
          },
          "metadata": {},
          "execution_count": 21
        }
      ]
    }
  ]
}